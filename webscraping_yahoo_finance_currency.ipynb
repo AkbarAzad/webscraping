{
 "cells": [
  {
   "cell_type": "markdown",
   "metadata": {},
   "source": [
    "# Project Yahoo Finance Currency Tracker\n",
    "# Akbar Azad"
   ]
  },
  {
   "cell_type": "code",
   "execution_count": 1,
   "metadata": {},
   "outputs": [],
   "source": [
    "from bs4 import BeautifulSoup\n",
    "import requests\n",
    "import pandas as pd\n",
    "import datetime\n",
    "import time\n",
    "import os"
   ]
  },
  {
   "cell_type": "code",
   "execution_count": 69,
   "metadata": {},
   "outputs": [],
   "source": [
    "def extract_currency(url = 'https://finance.yahoo.com/currencies/'):\n",
    "\n",
    "    # Extract html from URL\n",
    "    r = requests.get(url)\n",
    "    data = r.text\n",
    "    soup = BeautifulSoup(data)\n",
    "\n",
    "    # Extract information by ID in multiples of 14 starting from 40 till 390\n",
    "    id_number = 40\n",
    "    currency_list = []\n",
    "\n",
    "    while id_number <= 390:\n",
    "        id_number_string = str(id_number)\n",
    "        currency_id = soup.find_all('tr', {'data-reactid':id_number_string})\n",
    "        #print(len(currency_id))\n",
    "        currency_info = [f for f in currency_id[0]]\n",
    "        currency_info_text = [f.text for f in currency_info]\n",
    "        currency_dict = {'Symbol': currency_info_text[0],\n",
    "                        'Name': currency_info_text[1],\n",
    "                        'Last_Price': currency_info_text[2],\n",
    "                        'Change': currency_info_text[3],\n",
    "                        '%_Change': currency_info_text[4]}\n",
    "        currency_list.append(currency_dict)\n",
    "        id_number += 14\n",
    "    \n",
    "    currency_df = pd.DataFrame(currency_list)\n",
    "    \n",
    "    currency_df.to_csv('C:\\\\Users\\\\65961\\\\OneDrive\\\\Desktop\\\\Data_Products\\\\' + 'webscraping_yahoo_finance_currency_' + datetime.datetime.now().strftime('%Y%m%d%H%M%S') + '.csv', index = False)\n",
    "    \n",
    "    return currency_df"
   ]
  },
  {
   "cell_type": "code",
   "execution_count": 70,
   "metadata": {},
   "outputs": [],
   "source": [
    "currency_df = extract_currency()"
   ]
  }
 ],
 "metadata": {
  "kernelspec": {
   "display_name": "Python 3",
   "language": "python",
   "name": "python3"
  },
  "language_info": {
   "codemirror_mode": {
    "name": "ipython",
    "version": 3
   },
   "file_extension": ".py",
   "mimetype": "text/x-python",
   "name": "python",
   "nbconvert_exporter": "python",
   "pygments_lexer": "ipython3",
   "version": "3.7.6"
  }
 },
 "nbformat": 4,
 "nbformat_minor": 4
}
