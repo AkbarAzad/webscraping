{
 "cells": [
  {
   "cell_type": "code",
   "execution_count": 1,
   "metadata": {},
   "outputs": [],
   "source": [
    "# Determine hot places in Singapore"
   ]
  },
  {
   "cell_type": "code",
   "execution_count": 1,
   "metadata": {},
   "outputs": [],
   "source": [
    "# Import packages\n",
    "import requests\n",
    "import json\n",
    "import pandas as pd\n",
    "from datetime import datetime, timedelta\n",
    "import numpy as np\n",
    "import time"
   ]
  },
  {
   "cell_type": "code",
   "execution_count": 21,
   "metadata": {},
   "outputs": [],
   "source": [
    "def flatten_dict(dd, separator ='_', prefix =''):\n",
    "    return { prefix + separator + k if prefix else k : v\n",
    "            for kk, vv in dd.items()\n",
    "            for k, v in flatten_dict(vv, separator, kk).items()\n",
    "            } if isinstance(dd, dict) else { prefix : dd }"
   ]
  },
  {
   "cell_type": "code",
   "execution_count": 37,
   "metadata": {},
   "outputs": [],
   "source": [
    "class singaporeAirTemperature:\n",
    "    \n",
    "    def __init__(self, startDate, numDays):\n",
    "        presentDate = datetime.today()\n",
    "        presentDateString = presentDate.strftime(\"%Y-%m-%d\")\n",
    "        try:\n",
    "            startDateType = datetime.strptime(startDate, \"%Y-%m-%d\")\n",
    "        except ValueError:\n",
    "            return print(\"Invalid date format. Please follow format YYYY-MM-DD.\")\n",
    "        numDaysMax = (presentDate - startDateType).days\n",
    "        self.startDate = startDate\n",
    "        self.startDateType = startDateType\n",
    "        if numDaysMax > 1:\n",
    "            dateList = [numDays, numDaysMax]\n",
    "            numDaysIndex = np.argmin(dateList, axis = 0) \n",
    "            numDays = dateList[numDaysIndex]\n",
    "            self.numDays = numDays\n",
    "            self.dates = [self.startDateType + timedelta(days = i) for i in range(0, (self.numDays))]\n",
    "        else:\n",
    "            raise Exception(f\"Number of days between {self.startDate} and {presentDateString} is less than 1 day\")\n",
    "            \n",
    "    def getData(self):\n",
    "        url = \"https://api.data.gov.sg/v1/environment/air-temperature\"\n",
    "        headers = {\"accept\": \"application/json\"}\n",
    "        dataJsonList = []\n",
    "        counter = 0\n",
    "        print(\"Begin data loading...\")\n",
    "        for i in [j.strftime(\"%Y-%m-%d\") for j in self.dates]:\n",
    "            params = {\"date\": i}\n",
    "            response = requests.request(\"GET\", url, headers = headers, params = params)\n",
    "            time.sleep(3)\n",
    "            data = response.text\n",
    "            dataJson = json.loads(data)\n",
    "            dataJsonList.append(dataJson)\n",
    "            counter += 1\n",
    "            numDaysRemaining = self.numDays - counter\n",
    "            print(f\"Data loaded for date {i} with {numDaysRemaining} days remaining...\")\n",
    "            if counter == self.numDays:\n",
    "                print(\"Data loading completed.\")  \n",
    "        return dataJsonList\n",
    "    \n",
    "    def loadData(self):\n",
    "        dataJsonList = self.getData()\n",
    "        dfReadings = pd.DataFrame()\n",
    "        for i in dataJsonList[0][\"items\"]:\n",
    "            timestamp = i[\"timestamp\"]\n",
    "            dfR = pd.DataFrame(i[\"readings\"])\n",
    "            dfR[\"timestamp\"] = i[\"timestamp\"]\n",
    "            dfReadings = pd.concat([dfReadings, dfR], axis = 0)\n",
    "            dfReadings = dfReadings.reset_index(drop = True)\n",
    "        dfStations = pd.DataFrame()\n",
    "        for j in dataJsonList:\n",
    "            for k in j[\"metadata\"][\"stations\"]:\n",
    "                dfS = pd.DataFrame([flatten_dict(k)])\n",
    "                dfStations = pd.concat([dfStations, dfS], axis = 0)\n",
    "                dfStations = dfStations.reset_index(drop = True)\n",
    "        print(f\"Size of dfReadings: {dfReadings.shape}\\nSize of dfStations: {dfStations.shape}\")\n",
    "        return dfReadings, dfStations\n",
    "    "
   ]
  },
  {
   "cell_type": "code",
   "execution_count": 38,
   "metadata": {},
   "outputs": [],
   "source": [
    "temp = singaporeAirTemperature(\"2021-10-01\", 1)"
   ]
  },
  {
   "cell_type": "code",
   "execution_count": 39,
   "metadata": {},
   "outputs": [
    {
     "name": "stdout",
     "output_type": "stream",
     "text": [
      "Begin data loading...\n",
      "Data loaded for date 2021-10-01 with 0 days remaining...\n",
      "Data loading completed.\n",
      "Size of dfReadings: (19027, 3)\n",
      "Size of dfStations: (14, 5)\n"
     ]
    }
   ],
   "source": [
    "dfReadings, dfStations = temp.loadData()"
   ]
  },
  {
   "cell_type": "code",
   "execution_count": 40,
   "metadata": {},
   "outputs": [
    {
     "data": {
      "text/html": [
       "<div>\n",
       "<style scoped>\n",
       "    .dataframe tbody tr th:only-of-type {\n",
       "        vertical-align: middle;\n",
       "    }\n",
       "\n",
       "    .dataframe tbody tr th {\n",
       "        vertical-align: top;\n",
       "    }\n",
       "\n",
       "    .dataframe thead th {\n",
       "        text-align: right;\n",
       "    }\n",
       "</style>\n",
       "<table border=\"1\" class=\"dataframe\">\n",
       "  <thead>\n",
       "    <tr style=\"text-align: right;\">\n",
       "      <th></th>\n",
       "      <th>id</th>\n",
       "      <th>device_id</th>\n",
       "      <th>name</th>\n",
       "      <th>location_latitude</th>\n",
       "      <th>location_longitude</th>\n",
       "    </tr>\n",
       "  </thead>\n",
       "  <tbody>\n",
       "    <tr>\n",
       "      <th>0</th>\n",
       "      <td>S109</td>\n",
       "      <td>S109</td>\n",
       "      <td>Ang Mo Kio Avenue 5</td>\n",
       "      <td>1.37640</td>\n",
       "      <td>103.84920</td>\n",
       "    </tr>\n",
       "    <tr>\n",
       "      <th>1</th>\n",
       "      <td>S107</td>\n",
       "      <td>S107</td>\n",
       "      <td>East Coast Parkway</td>\n",
       "      <td>1.31350</td>\n",
       "      <td>103.96250</td>\n",
       "    </tr>\n",
       "    <tr>\n",
       "      <th>2</th>\n",
       "      <td>S43</td>\n",
       "      <td>S43</td>\n",
       "      <td>Kim Chuan Road</td>\n",
       "      <td>1.33990</td>\n",
       "      <td>103.88780</td>\n",
       "    </tr>\n",
       "    <tr>\n",
       "      <th>3</th>\n",
       "      <td>S108</td>\n",
       "      <td>S108</td>\n",
       "      <td>Marina Gardens Drive</td>\n",
       "      <td>1.27990</td>\n",
       "      <td>103.87030</td>\n",
       "    </tr>\n",
       "    <tr>\n",
       "      <th>4</th>\n",
       "      <td>S44</td>\n",
       "      <td>S44</td>\n",
       "      <td>Nanyang Avenue</td>\n",
       "      <td>1.34583</td>\n",
       "      <td>103.68166</td>\n",
       "    </tr>\n",
       "  </tbody>\n",
       "</table>\n",
       "</div>"
      ],
      "text/plain": [
       "     id device_id                  name  location_latitude  location_longitude\n",
       "0  S109      S109   Ang Mo Kio Avenue 5            1.37640           103.84920\n",
       "1  S107      S107    East Coast Parkway            1.31350           103.96250\n",
       "2   S43       S43        Kim Chuan Road            1.33990           103.88780\n",
       "3  S108      S108  Marina Gardens Drive            1.27990           103.87030\n",
       "4   S44       S44        Nanyang Avenue            1.34583           103.68166"
      ]
     },
     "execution_count": 40,
     "metadata": {},
     "output_type": "execute_result"
    }
   ],
   "source": [
    "dfStations.head()"
   ]
  }
 ],
 "metadata": {
  "kernelspec": {
   "display_name": "Python 3",
   "language": "python",
   "name": "python3"
  },
  "language_info": {
   "codemirror_mode": {
    "name": "ipython",
    "version": 3
   },
   "file_extension": ".py",
   "mimetype": "text/x-python",
   "name": "python",
   "nbconvert_exporter": "python",
   "pygments_lexer": "ipython3",
   "version": "3.7.6"
  }
 },
 "nbformat": 4,
 "nbformat_minor": 4
}
