{
 "cells": [
  {
   "cell_type": "code",
   "execution_count": 1,
   "metadata": {},
   "outputs": [],
   "source": [
    "# Determine hot places in Singapore"
   ]
  },
  {
   "cell_type": "code",
   "execution_count": 124,
   "metadata": {},
   "outputs": [],
   "source": [
    "# Import packages\n",
    "import requests\n",
    "import json\n",
    "import pandas as pd\n",
    "from datetime import datetime, timedelta\n",
    "import numpy as np\n",
    "import time"
   ]
  },
  {
   "cell_type": "code",
   "execution_count": 174,
   "metadata": {},
   "outputs": [],
   "source": [
    "class singaporeAirTemperature:\n",
    "    \n",
    "    def __init__(self, startDate, numDays):\n",
    "        presentDate = datetime.today()\n",
    "        presentDateString = presentDate.strftime(\"%Y-%m-%d\")\n",
    "        try:\n",
    "            startDateType = datetime.strptime(startDate, \"%Y-%m-%d\")\n",
    "        except ValueError:\n",
    "            return print(\"Invalid date format. Please follow format YYYY-MM-DD.\")\n",
    "        numDaysMax = (presentDate - startDateType).days\n",
    "        self.startDate = startDate\n",
    "        self.startDateType = startDateType\n",
    "        if numDaysMax > 1:\n",
    "            dateList = [numDays, numDaysMax]\n",
    "            numDaysIndex = np.argmin(dateList, axis = 0) \n",
    "            numDays = dateList[numDaysIndex]\n",
    "            self.numDays = numDays\n",
    "            self.dates = [self.startDateType + timedelta(days = i) for i in range(0, (self.numDays))]\n",
    "        else:\n",
    "            raise Exception(f\"Number of days between {self.startDate} and {presentDateString} is less than 1 day\")\n",
    "            \n",
    "    def getData(self):\n",
    "        url = \"https://api.data.gov.sg/v1/environment/air-temperature\"\n",
    "        headers = {\"accept\": \"application/json\"}\n",
    "        dataJsonList = []\n",
    "        counter = 0\n",
    "        print(\"Begin data loading...\")\n",
    "        for i in [j.strftime(\"%Y-%m-%d\") for j in self.dates]:\n",
    "            response = requests.request(\"GET\", url, headers = headers, params = params)\n",
    "            time.sleep(3)\n",
    "            data = response.text\n",
    "            dataJson = json.loads(data)\n",
    "            dataJsonList.append(dataJson)\n",
    "            counter += 1\n",
    "            numDaysRemaining = self.numDays - counter\n",
    "            print(f\"Data loaded for date {i} with {numDaysRemaining} days remaining...\")\n",
    "            if counter == self.numDays:\n",
    "                print(\"Data loading completed.\")  \n",
    "        return dataJsonList\n",
    "    \n",
    "    def loadData(self):\n",
    "        dataJsonList = self.getData()\n",
    "        dfReadings = pd.DataFrame()\n",
    "        for i in dataJsonList[0][\"items\"]:\n",
    "            timestamp = i[\"timestamp\"]\n",
    "            dfR = pd.DataFrame(i[\"readings\"])\n",
    "            dfR[\"timestamp\"] = i[\"timestamp\"]\n",
    "            dfReadings = pd.concat([dfReadings, dfR], axis = 0)\n",
    "            dfReadings = dfReadings.reset_index(drop = True)\n",
    "        dfStations = pd.DataFrame()\n",
    "        for j in dataJsonList:\n",
    "            dfS = pd.DataFrame(j[\"metadata\"][\"stations\"])\n",
    "            dfStations = pd.concat([dfStations, dfS], axis = 0)\n",
    "            dfStations = dfStations.reset_index(drop = True)\n",
    "        print(f\"Size of dfReadings: {dfReadings.shape}\\nSize of dfStations: {dfStations.shape}\")\n",
    "        return dfReadings, dfStations"
   ]
  },
  {
   "cell_type": "code",
   "execution_count": 175,
   "metadata": {},
   "outputs": [],
   "source": [
    "temp = singaporeAirTemperature(\"2021-10-01\", 10)"
   ]
  },
  {
   "cell_type": "code",
   "execution_count": 176,
   "metadata": {},
   "outputs": [
    {
     "name": "stdout",
     "output_type": "stream",
     "text": [
      "Begin data loading...\n",
      "Data loaded for date 2021-10-01 with 9 days remaining...\n",
      "Data loaded for date 2021-10-02 with 8 days remaining...\n",
      "Data loaded for date 2021-10-03 with 7 days remaining...\n",
      "Data loaded for date 2021-10-04 with 6 days remaining...\n",
      "Data loaded for date 2021-10-05 with 5 days remaining...\n",
      "Data loaded for date 2021-10-06 with 4 days remaining...\n",
      "Data loaded for date 2021-10-07 with 3 days remaining...\n",
      "Data loaded for date 2021-10-08 with 2 days remaining...\n",
      "Data loaded for date 2021-10-09 with 1 days remaining...\n",
      "Data loaded for date 2021-10-10 with 0 days remaining...\n",
      "Data loading completed.\n",
      "Size of dfReadings: (20053, 3)\n",
      "Size of dfStations: (140, 4)\n"
     ]
    }
   ],
   "source": [
    "dfReadings, dfStations = temp.loadData()"
   ]
  }
 ],
 "metadata": {
  "kernelspec": {
   "display_name": "Python 3",
   "language": "python",
   "name": "python3"
  },
  "language_info": {
   "codemirror_mode": {
    "name": "ipython",
    "version": 3
   },
   "file_extension": ".py",
   "mimetype": "text/x-python",
   "name": "python",
   "nbconvert_exporter": "python",
   "pygments_lexer": "ipython3",
   "version": "3.7.6"
  }
 },
 "nbformat": 4,
 "nbformat_minor": 4
}
