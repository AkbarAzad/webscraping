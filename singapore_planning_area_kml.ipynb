{
 "cells": [
  {
   "cell_type": "code",
   "execution_count": 1,
   "metadata": {},
   "outputs": [],
   "source": [
    "# Extracting Singapore land planning areas' coordinates\n",
    "# Source: https://data.gov.sg/dataset/master-plan-2014-planning-area-boundary-web\n",
    "# Date: 05 February 2021\n",
    "# Author: Akbar Azad"
   ]
  },
  {
   "cell_type": "code",
   "execution_count": 2,
   "metadata": {},
   "outputs": [],
   "source": [
    "# Import packages\n",
    "from lxml import etree\n",
    "import xml.etree.ElementTree as ET\n",
    "import pandas as pd\n",
    "import datetime"
   ]
  },
  {
   "cell_type": "code",
   "execution_count": 3,
   "metadata": {},
   "outputs": [
    {
     "name": "stdout",
     "output_type": "stream",
     "text": [
      "<xml.etree.ElementTree.ElementTree object at 0x000002B993230088>\n"
     ]
    }
   ],
   "source": [
    "# Import KML data\n",
    "tree = ET.parse('MP14_PLNG_AREA_WEB_PL.kml')\n",
    "print(tree)"
   ]
  },
  {
   "cell_type": "code",
   "execution_count": 4,
   "metadata": {},
   "outputs": [
    {
     "name": "stdout",
     "output_type": "stream",
     "text": [
      "<Element '{http://www.opengis.net/kml/2.2}kml' at 0x000002B99321F728>\n"
     ]
    }
   ],
   "source": [
    "# Get namespace\n",
    "root = tree.getroot()\n",
    "print(root)"
   ]
  },
  {
   "cell_type": "code",
   "execution_count": 5,
   "metadata": {},
   "outputs": [
    {
     "name": "stdout",
     "output_type": "stream",
     "text": [
      "Namespace: {http://www.opengis.net/kml/2.2}\n"
     ]
    }
   ],
   "source": [
    "# Show namespace\n",
    "namespace = '{http://www.opengis.net/kml/2.2}'\n",
    "print(f\"Namespace: {namespace}\")"
   ]
  },
  {
   "cell_type": "code",
   "execution_count": 6,
   "metadata": {},
   "outputs": [
    {
     "data": {
      "text/plain": [
       "['{http://www.opengis.net/kml/2.2}kml',\n",
       " '{http://www.opengis.net/kml/2.2}Document',\n",
       " '{http://www.opengis.net/kml/2.2}name',\n",
       " '{http://www.opengis.net/kml/2.2}Snippet',\n",
       " '{http://www.opengis.net/kml/2.2}Folder',\n",
       " '{http://www.opengis.net/kml/2.2}name',\n",
       " '{http://www.opengis.net/kml/2.2}Snippet',\n",
       " '{http://www.opengis.net/kml/2.2}Placemark',\n",
       " '{http://www.opengis.net/kml/2.2}name',\n",
       " '{http://www.opengis.net/kml/2.2}Snippet',\n",
       " '{http://www.opengis.net/kml/2.2}description',\n",
       " '{http://www.opengis.net/kml/2.2}styleUrl',\n",
       " '{http://www.opengis.net/kml/2.2}MultiGeometry',\n",
       " '{http://www.opengis.net/kml/2.2}Polygon',\n",
       " '{http://www.opengis.net/kml/2.2}extrude',\n",
       " '{http://www.opengis.net/kml/2.2}altitudeMode',\n",
       " '{http://www.opengis.net/kml/2.2}outerBoundaryIs',\n",
       " '{http://www.opengis.net/kml/2.2}LinearRing',\n",
       " '{http://www.opengis.net/kml/2.2}coordinates',\n",
       " '{http://www.opengis.net/kml/2.2}Placemark']"
      ]
     },
     "execution_count": 6,
     "metadata": {},
     "output_type": "execute_result"
    }
   ],
   "source": [
    "# KML structure\n",
    "[elem.tag for elem in root.iter()][:20]"
   ]
  },
  {
   "cell_type": "code",
   "execution_count": 7,
   "metadata": {},
   "outputs": [
    {
     "name": "stderr",
     "output_type": "stream",
     "text": [
      "C:\\Users\\65961\\Desktop\\anaconda3\\lib\\site-packages\\ipykernel_launcher.py:3: DeprecationWarning: This method will be removed in future versions.  Use 'list(elem)' or iteration over elem instead.\n",
      "  This is separate from the ipykernel package so we can avoid doing imports until\n",
      "C:\\Users\\65961\\Desktop\\anaconda3\\lib\\site-packages\\ipykernel_launcher.py:4: DeprecationWarning: This method will be removed in future versions.  Use 'list(elem)' or iteration over elem instead.\n",
      "  after removing the cwd from sys.path.\n"
     ]
    }
   ],
   "source": [
    "# Test code\n",
    "test = root.findall(\"./{http://www.opengis.net/kml/2.2}Document/{http://www.opengis.net/kml/2.2}Folder/{http://www.opengis.net/kml/2.2}Placemark/[@id='ID_00054']\")\n",
    "test_children = test[0].getchildren()\n",
    "test_polygon = test_children[4].getchildren()\n",
    "test_polygon2 = [elem for elem in test_polygon[0]]\n",
    "test_polygon3 = [elem for elem in test_polygon2[2]]\n",
    "test_polygon4 = [elem for elem in test_polygon3[0]]\n",
    "test_coordinates = test_polygon4[0].text.strip()"
   ]
  },
  {
   "cell_type": "code",
   "execution_count": 8,
   "metadata": {},
   "outputs": [
    {
     "name": "stdout",
     "output_type": "stream",
     "text": [
      "[<Element '{http://www.opengis.net/kml/2.2}extrude' at 0x000002B9932BFB88>, <Element '{http://www.opengis.net/kml/2.2}altitudeMode' at 0x000002B9932BFBD8>, <Element '{http://www.opengis.net/kml/2.2}outerBoundaryIs' at 0x000002B9932BFC28>]\n"
     ]
    }
   ],
   "source": [
    "# Display test result\n",
    "print(test_polygon2)"
   ]
  },
  {
   "cell_type": "code",
   "execution_count": 9,
   "metadata": {},
   "outputs": [
    {
     "name": "stdout",
     "output_type": "stream",
     "text": [
      "Number of rows: 55\n",
      "Number of columns: 2\n",
      "   Order  Planning_Area\n",
      "0      0         BISHAN\n",
      "1      1    BUKIT BATOK\n",
      "2      2    BUKIT MERAH\n",
      "3      3  BUKIT PANJANG\n",
      "4      4    BUKIT TIMAH\n"
     ]
    },
    {
     "name": "stderr",
     "output_type": "stream",
     "text": [
      "C:\\Users\\65961\\Desktop\\anaconda3\\lib\\site-packages\\ipykernel_launcher.py:6: DeprecationWarning: This method will be removed in future versions.  Use 'list(elem)' or iteration over elem instead.\n",
      "  \n"
     ]
    }
   ],
   "source": [
    "# Get planning area\n",
    "num = 0\n",
    "planning_area_list = []\n",
    "for item in root.findall('./{http://www.opengis.net/kml/2.2}Document/{http://www.opengis.net/kml/2.2}Folder/')[2:]:\n",
    "    item_dict = {'Order': num,\n",
    "                 'Planning_Area': item.getchildren()[0].text.strip()}\n",
    "    planning_area_list.append(item_dict)\n",
    "    num += 1\n",
    "    \n",
    "planning_area_df = pd.DataFrame(planning_area_list)\n",
    "print(f\"Number of rows: {planning_area_df.shape[0]}\\nNumber of columns: {planning_area_df.shape[1]}\")\n",
    "print(planning_area_df.head())"
   ]
  },
  {
   "cell_type": "code",
   "execution_count": 10,
   "metadata": {},
   "outputs": [],
   "source": [
    "# Get IDs\n",
    "num = 0\n",
    "id_list = []\n",
    "for item in root.findall('./{http://www.opengis.net/kml/2.2}Document/{http://www.opengis.net/kml/2.2}Folder/')[2:]:\n",
    "    #print(f\"{item.tag} with attributes {item.attrib}\")\n",
    "    try:\n",
    "        id_ = item.attrib['id']\n",
    "    except:\n",
    "        pass\n",
    "    id_list.append(id_)"
   ]
  },
  {
   "cell_type": "code",
   "execution_count": 11,
   "metadata": {},
   "outputs": [],
   "source": [
    "# Get Placemark\n",
    "num = 0\n",
    "placemark_list = []\n",
    "for item in id_list:\n",
    "    placemark_find = root.findall(\"./{http://www.opengis.net/kml/2.2}Document/{http://www.opengis.net/kml/2.2}Folder/{http://www.opengis.net/kml/2.2}Placemark/[@id=\" + \"'{}']\".format(item))\n",
    "    placemark_list.append(placemark_find[0])"
   ]
  },
  {
   "cell_type": "code",
   "execution_count": 12,
   "metadata": {},
   "outputs": [
    {
     "name": "stderr",
     "output_type": "stream",
     "text": [
      "C:\\Users\\65961\\Desktop\\anaconda3\\lib\\site-packages\\ipykernel_launcher.py:5: DeprecationWarning: This method will be removed in future versions.  Use 'list(elem)' or iteration over elem instead.\n",
      "  \"\"\"\n"
     ]
    }
   ],
   "source": [
    "# Get Placemark children\n",
    "num = 0\n",
    "placemark_children_list = []\n",
    "for item in placemark_list:\n",
    "    children = item.getchildren()\n",
    "    placemark_children_list.append(children)"
   ]
  },
  {
   "cell_type": "code",
   "execution_count": 13,
   "metadata": {},
   "outputs": [],
   "source": [
    "# Get MultiGeometry\n",
    "multigeometry_list = []\n",
    "for item in placemark_children_list:\n",
    "    num = 0\n",
    "    for item2 in item:\n",
    "        if num == 4:\n",
    "            multigeometry_list.append(item2)\n",
    "        num += 1"
   ]
  },
  {
   "cell_type": "code",
   "execution_count": 14,
   "metadata": {},
   "outputs": [
    {
     "name": "stderr",
     "output_type": "stream",
     "text": [
      "C:\\Users\\65961\\Desktop\\anaconda3\\lib\\site-packages\\ipykernel_launcher.py:5: DeprecationWarning: This method will be removed in future versions.  Use 'list(elem)' or iteration over elem instead.\n",
      "  \"\"\"\n"
     ]
    }
   ],
   "source": [
    "# Get Polygon (Multigeometry children)\n",
    "num = 0\n",
    "polygon_list = []\n",
    "for item in multigeometry_list:\n",
    "    polygon_list.append(item.getchildren())"
   ]
  },
  {
   "cell_type": "code",
   "execution_count": 15,
   "metadata": {},
   "outputs": [
    {
     "name": "stdout",
     "output_type": "stream",
     "text": [
      "Number of rows: 38325\n",
      "Number of columns: 3\n",
      "   Order           Latitude          Longitude\n",
      "0      0  1.362752820720889  103.8492429187323\n",
      "1      0  1.363027350968694  103.8487496535366\n",
      "2      0  1.363286277265267  103.8482481275976\n",
      "3      0  1.363529348189151  103.8477388288432\n",
      "4      0    1.3635855162765  103.8476165152005\n"
     ]
    },
    {
     "name": "stderr",
     "output_type": "stream",
     "text": [
      "C:\\Users\\65961\\Desktop\\anaconda3\\lib\\site-packages\\ipykernel_launcher.py:6: DeprecationWarning: This method will be removed in future versions.  Use 'list(elem)' or iteration over elem instead.\n",
      "  \n",
      "C:\\Users\\65961\\Desktop\\anaconda3\\lib\\site-packages\\ipykernel_launcher.py:8: DeprecationWarning: This method will be removed in future versions.  Use 'list(elem)' or iteration over elem instead.\n",
      "  \n",
      "C:\\Users\\65961\\Desktop\\anaconda3\\lib\\site-packages\\ipykernel_launcher.py:9: DeprecationWarning: This method will be removed in future versions.  Use 'list(elem)' or iteration over elem instead.\n",
      "  if __name__ == '__main__':\n"
     ]
    }
   ],
   "source": [
    "# Get Polygon children\n",
    "coordinates_list = []\n",
    "num = 0\n",
    "for item in polygon_list:\n",
    "    for item2 in item:\n",
    "        polygon_children = item2.getchildren()\n",
    "        outer_boundary = polygon_children[2]\n",
    "        outer_boundary_children = outer_boundary.getchildren()\n",
    "        linear_ring = outer_boundary_children[0].getchildren()\n",
    "        coordinates = linear_ring[0].text.strip()\n",
    "        coordinates_split = coordinates.split(sep = \",0 \")\n",
    "        for item3 in coordinates_split:\n",
    "            item3_dict = {'Order': num,\n",
    "                         'Latitude': item3.split(sep = \",\")[1],\n",
    "                         'Longitude': item3.split(sep = \",\")[0]}\n",
    "            coordinates_list.append(item3_dict)\n",
    "    num += 1\n",
    "            \n",
    "coordinates_df = pd.DataFrame(coordinates_list)\n",
    "print(f\"Number of rows: {coordinates_df.shape[0]}\\nNumber of columns: {coordinates_df.shape[1]}\")\n",
    "print(coordinates_df.head())\n",
    "#coordinates_df.to_csv('singapore_planning_area_kml_{}.csv'.format(datetime.datetime.now().strftime('%Y%m%d%H%M%S')), index = False)"
   ]
  },
  {
   "cell_type": "code",
   "execution_count": 16,
   "metadata": {},
   "outputs": [
    {
     "name": "stdout",
     "output_type": "stream",
     "text": [
      "Number of rows: 38214\n",
      "Number of columns: 4\n",
      "   Order           Latitude          Longitude Planning_Area\n",
      "0      0  1.362752820720889  103.8492429187323        BISHAN\n",
      "1      0  1.363027350968694  103.8487496535366        BISHAN\n",
      "2      0  1.363286277265267  103.8482481275976        BISHAN\n",
      "3      0  1.363529348189151  103.8477388288432        BISHAN\n",
      "4      0    1.3635855162765  103.8476165152005        BISHAN\n"
     ]
    }
   ],
   "source": [
    "# Merge coordinates dataframe with planning area dataframe\n",
    "merge_df = pd.merge(coordinates_df, planning_area_df, on = ['Order'])\n",
    "merge_df = merge_df.drop_duplicates()\n",
    "merge_df = merge_df.reset_index(drop = True)\n",
    "print(f\"Number of rows: {merge_df.shape[0]}\\nNumber of columns: {merge_df.shape[1]}\")\n",
    "print(merge_df.head())\n",
    "merge_df.to_csv('singapore_planning_area_kml_{}.csv'.format(datetime.datetime.now().strftime('%Y%m%d%H%M%S')), index = False)"
   ]
  }
 ],
 "metadata": {
  "kernelspec": {
   "display_name": "Python 3",
   "language": "python",
   "name": "python3"
  },
  "language_info": {
   "codemirror_mode": {
    "name": "ipython",
    "version": 3
   },
   "file_extension": ".py",
   "mimetype": "text/x-python",
   "name": "python",
   "nbconvert_exporter": "python",
   "pygments_lexer": "ipython3",
   "version": "3.7.6"
  }
 },
 "nbformat": 4,
 "nbformat_minor": 4
}
