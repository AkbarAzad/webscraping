{
 "cells": [
  {
   "cell_type": "code",
   "execution_count": 1,
   "metadata": {},
   "outputs": [],
   "source": [
    "# Extracting Singapore land survey districts' coordinates\n",
    "# Source: https://data.gov.sg/dataset/sla-land-survey-district\n",
    "# Date: 04 February 2021\n",
    "# Author: Akbar Azad"
   ]
  },
  {
   "cell_type": "code",
   "execution_count": 2,
   "metadata": {},
   "outputs": [],
   "source": [
    "# Import packages\n",
    "from lxml import etree\n",
    "import xml.etree.ElementTree as ET\n",
    "import pandas as pd\n",
    "import datetime"
   ]
  },
  {
   "cell_type": "code",
   "execution_count": 3,
   "metadata": {},
   "outputs": [
    {
     "name": "stdout",
     "output_type": "stream",
     "text": [
      "<xml.etree.ElementTree.ElementTree object at 0x000002789E010088>\n"
     ]
    }
   ],
   "source": [
    "# Import KML data\n",
    "tree = ET.parse('sla-land-survey-district-kml.kml')\n",
    "print(tree)"
   ]
  },
  {
   "cell_type": "code",
   "execution_count": 4,
   "metadata": {},
   "outputs": [
    {
     "name": "stdout",
     "output_type": "stream",
     "text": [
      "<Element '{http://www.opengis.net/kml/2.2}kml' at 0x000002789DFFD638>\n"
     ]
    }
   ],
   "source": [
    "# Get namespace\n",
    "root = tree.getroot()\n",
    "print(root)"
   ]
  },
  {
   "cell_type": "code",
   "execution_count": 5,
   "metadata": {},
   "outputs": [
    {
     "name": "stdout",
     "output_type": "stream",
     "text": [
      "Namespace: {http://www.opengis.net/kml/2.2}\n"
     ]
    }
   ],
   "source": [
    "# Show namespace\n",
    "namespace = '{http://www.opengis.net/kml/2.2}'\n",
    "print(f\"Namespace: {namespace}\")"
   ]
  },
  {
   "cell_type": "code",
   "execution_count": 6,
   "metadata": {},
   "outputs": [
    {
     "name": "stdout",
     "output_type": "stream",
     "text": [
      "[<Element '{http://www.opengis.net/kml/2.2}LinearRing' at 0x000002789E011908>, <Element '{http://www.opengis.net/kml/2.2}LinearRing' at 0x000002789E014228>, <Element '{http://www.opengis.net/kml/2.2}LinearRing' at 0x000002789E0149A8>, <Element '{http://www.opengis.net/kml/2.2}LinearRing' at 0x000002789E0150E8>, <Element '{http://www.opengis.net/kml/2.2}LinearRing' at 0x000002789E015818>]\n"
     ]
    }
   ],
   "source": [
    "# Find coordinates\n",
    "lineStrings = tree.findall('.//{http://www.opengis.net/kml/2.2}LinearRing')\n",
    "print(lineStrings[:5])"
   ]
  },
  {
   "cell_type": "code",
   "execution_count": 7,
   "metadata": {},
   "outputs": [
    {
     "data": {
      "text/plain": [
       "['{http://www.opengis.net/kml/2.2}kml',\n",
       " '{http://www.opengis.net/kml/2.2}Document',\n",
       " '{http://www.opengis.net/kml/2.2}name',\n",
       " '{http://www.opengis.net/kml/2.2}visibility',\n",
       " '{http://www.opengis.net/kml/2.2}Schema']"
      ]
     },
     "execution_count": 7,
     "metadata": {},
     "output_type": "execute_result"
    }
   ],
   "source": [
    "# KML structure\n",
    "[elem.tag for elem in root.iter()][:5]"
   ]
  },
  {
   "cell_type": "code",
   "execution_count": 8,
   "metadata": {},
   "outputs": [],
   "source": [
    "# Get districts\n",
    "num = 0\n",
    "district_list = []\n",
    "simpledata = [elem.tag for elem in root.iter('{http://www.opengis.net/kml/2.2}SimpleData')]\n",
    "for item in root.iter('{http://www.opengis.net/kml/2.2}SimpleData'):\n",
    "    if item.attrib['name'] == 'SURVEY_DISTRICT':\n",
    "        #print(item.attrib['name'])\n",
    "        #print(item.text)\n",
    "        #print(num)\n",
    "        district_dict = {'Order': num,\n",
    "                        'District': item.text}\n",
    "        num += 1\n",
    "        district_list.append(district_dict)\n",
    "    #print(item.text)\n",
    "district_df = pd.DataFrame(district_list)"
   ]
  },
  {
   "cell_type": "code",
   "execution_count": 9,
   "metadata": {},
   "outputs": [],
   "source": [
    "# Get coordinates\n",
    "num = 0\n",
    "coordinates_list = []\n",
    "coordinates = [elem.tag for elem in root.iter('{http://www.opengis.net/kml/2.2}coordinates')]\n",
    "for item in root.iter('{http://www.opengis.net/kml/2.2}coordinates'):\n",
    "    item_split = item.text.split(sep = ',0.0 ')\n",
    "    for item2 in item_split:\n",
    "        coordinates_dict = {'Order': num,\n",
    "                    'Latitude': item2.split(sep = ',')[1],\n",
    "                     'Longitude': item2.split(sep = ',')[0]\n",
    "                     }\n",
    "        coordinates_list.append(coordinates_dict)\n",
    "    #print(item_split)\n",
    "    #coordinates_dict = {'Order': num,\n",
    "    #                   'Coordinates': }\n",
    "    num += 1\n",
    "coordinates_df = pd.DataFrame(coordinates_list)"
   ]
  },
  {
   "cell_type": "code",
   "execution_count": 10,
   "metadata": {},
   "outputs": [
    {
     "name": "stdout",
     "output_type": "stream",
     "text": [
      "Number of rows: 22489\n",
      "Number of columns: 3\n"
     ]
    },
    {
     "data": {
      "text/html": [
       "<div>\n",
       "<style scoped>\n",
       "    .dataframe tbody tr th:only-of-type {\n",
       "        vertical-align: middle;\n",
       "    }\n",
       "\n",
       "    .dataframe tbody tr th {\n",
       "        vertical-align: top;\n",
       "    }\n",
       "\n",
       "    .dataframe thead th {\n",
       "        text-align: right;\n",
       "    }\n",
       "</style>\n",
       "<table border=\"1\" class=\"dataframe\">\n",
       "  <thead>\n",
       "    <tr style=\"text-align: right;\">\n",
       "      <th></th>\n",
       "      <th>Order</th>\n",
       "      <th>Latitude</th>\n",
       "      <th>Longitude</th>\n",
       "    </tr>\n",
       "  </thead>\n",
       "  <tbody>\n",
       "    <tr>\n",
       "      <th>0</th>\n",
       "      <td>0</td>\n",
       "      <td>1.35821281191433</td>\n",
       "      <td>103.950157756439</td>\n",
       "    </tr>\n",
       "    <tr>\n",
       "      <th>1</th>\n",
       "      <td>0</td>\n",
       "      <td>1.35828650813368</td>\n",
       "      <td>103.950163501803</td>\n",
       "    </tr>\n",
       "    <tr>\n",
       "      <th>2</th>\n",
       "      <td>0</td>\n",
       "      <td>1.3583586845387</td>\n",
       "      <td>103.950179221158</td>\n",
       "    </tr>\n",
       "    <tr>\n",
       "      <th>3</th>\n",
       "      <td>0</td>\n",
       "      <td>1.3584305076863</td>\n",
       "      <td>103.950206361249</td>\n",
       "    </tr>\n",
       "    <tr>\n",
       "      <th>4</th>\n",
       "      <td>0</td>\n",
       "      <td>1.3584924455653</td>\n",
       "      <td>103.950245541627</td>\n",
       "    </tr>\n",
       "  </tbody>\n",
       "</table>\n",
       "</div>"
      ],
      "text/plain": [
       "   Order          Latitude         Longitude\n",
       "0      0  1.35821281191433  103.950157756439\n",
       "1      0  1.35828650813368  103.950163501803\n",
       "2      0   1.3583586845387  103.950179221158\n",
       "3      0   1.3584305076863  103.950206361249\n",
       "4      0   1.3584924455653  103.950245541627"
      ]
     },
     "execution_count": 10,
     "metadata": {},
     "output_type": "execute_result"
    }
   ],
   "source": [
    "# Show coordinates dataframe\n",
    "print(f\"Number of rows: {coordinates_df.shape[0]}\\nNumber of columns: {coordinates_df.shape[1]}\")\n",
    "coordinates_df.head()"
   ]
  },
  {
   "cell_type": "code",
   "execution_count": 11,
   "metadata": {},
   "outputs": [
    {
     "name": "stdout",
     "output_type": "stream",
     "text": [
      "Number of rows: 65\n",
      "Number of columns: 2\n"
     ]
    },
    {
     "data": {
      "text/html": [
       "<div>\n",
       "<style scoped>\n",
       "    .dataframe tbody tr th:only-of-type {\n",
       "        vertical-align: middle;\n",
       "    }\n",
       "\n",
       "    .dataframe tbody tr th {\n",
       "        vertical-align: top;\n",
       "    }\n",
       "\n",
       "    .dataframe thead th {\n",
       "        text-align: right;\n",
       "    }\n",
       "</style>\n",
       "<table border=\"1\" class=\"dataframe\">\n",
       "  <thead>\n",
       "    <tr style=\"text-align: right;\">\n",
       "      <th></th>\n",
       "      <th>Order</th>\n",
       "      <th>District</th>\n",
       "    </tr>\n",
       "  </thead>\n",
       "  <tbody>\n",
       "    <tr>\n",
       "      <th>0</th>\n",
       "      <td>0</td>\n",
       "      <td>MK31</td>\n",
       "    </tr>\n",
       "    <tr>\n",
       "      <th>1</th>\n",
       "      <td>1</td>\n",
       "      <td>TS11</td>\n",
       "    </tr>\n",
       "    <tr>\n",
       "      <th>2</th>\n",
       "      <td>2</td>\n",
       "      <td>MK04</td>\n",
       "    </tr>\n",
       "    <tr>\n",
       "      <th>3</th>\n",
       "      <td>3</td>\n",
       "      <td>MK11</td>\n",
       "    </tr>\n",
       "    <tr>\n",
       "      <th>4</th>\n",
       "      <td>4</td>\n",
       "      <td>MK29</td>\n",
       "    </tr>\n",
       "  </tbody>\n",
       "</table>\n",
       "</div>"
      ],
      "text/plain": [
       "   Order District\n",
       "0      0     MK31\n",
       "1      1     TS11\n",
       "2      2     MK04\n",
       "3      3     MK11\n",
       "4      4     MK29"
      ]
     },
     "execution_count": 11,
     "metadata": {},
     "output_type": "execute_result"
    }
   ],
   "source": [
    "# Show districts dataframe\n",
    "print(f\"Number of rows: {district_df.shape[0]}\\nNumber of columns: {district_df.shape[1]}\")\n",
    "district_df.head()"
   ]
  },
  {
   "cell_type": "code",
   "execution_count": 12,
   "metadata": {},
   "outputs": [
    {
     "name": "stdout",
     "output_type": "stream",
     "text": [
      "Number of rows: 22489\n",
      "Number of columns: 4\n"
     ]
    },
    {
     "data": {
      "text/html": [
       "<div>\n",
       "<style scoped>\n",
       "    .dataframe tbody tr th:only-of-type {\n",
       "        vertical-align: middle;\n",
       "    }\n",
       "\n",
       "    .dataframe tbody tr th {\n",
       "        vertical-align: top;\n",
       "    }\n",
       "\n",
       "    .dataframe thead th {\n",
       "        text-align: right;\n",
       "    }\n",
       "</style>\n",
       "<table border=\"1\" class=\"dataframe\">\n",
       "  <thead>\n",
       "    <tr style=\"text-align: right;\">\n",
       "      <th></th>\n",
       "      <th>Order</th>\n",
       "      <th>Latitude</th>\n",
       "      <th>Longitude</th>\n",
       "      <th>District</th>\n",
       "    </tr>\n",
       "  </thead>\n",
       "  <tbody>\n",
       "    <tr>\n",
       "      <th>0</th>\n",
       "      <td>0</td>\n",
       "      <td>1.35821281191433</td>\n",
       "      <td>103.950157756439</td>\n",
       "      <td>MK31</td>\n",
       "    </tr>\n",
       "    <tr>\n",
       "      <th>1</th>\n",
       "      <td>0</td>\n",
       "      <td>1.35828650813368</td>\n",
       "      <td>103.950163501803</td>\n",
       "      <td>MK31</td>\n",
       "    </tr>\n",
       "    <tr>\n",
       "      <th>2</th>\n",
       "      <td>0</td>\n",
       "      <td>1.3583586845387</td>\n",
       "      <td>103.950179221158</td>\n",
       "      <td>MK31</td>\n",
       "    </tr>\n",
       "    <tr>\n",
       "      <th>3</th>\n",
       "      <td>0</td>\n",
       "      <td>1.3584305076863</td>\n",
       "      <td>103.950206361249</td>\n",
       "      <td>MK31</td>\n",
       "    </tr>\n",
       "    <tr>\n",
       "      <th>4</th>\n",
       "      <td>0</td>\n",
       "      <td>1.3584924455653</td>\n",
       "      <td>103.950245541627</td>\n",
       "      <td>MK31</td>\n",
       "    </tr>\n",
       "  </tbody>\n",
       "</table>\n",
       "</div>"
      ],
      "text/plain": [
       "   Order          Latitude         Longitude District\n",
       "0      0  1.35821281191433  103.950157756439     MK31\n",
       "1      0  1.35828650813368  103.950163501803     MK31\n",
       "2      0   1.3583586845387  103.950179221158     MK31\n",
       "3      0   1.3584305076863  103.950206361249     MK31\n",
       "4      0   1.3584924455653  103.950245541627     MK31"
      ]
     },
     "execution_count": 12,
     "metadata": {},
     "output_type": "execute_result"
    }
   ],
   "source": [
    "# Merge coordinates dataframe with districts dataframe on Order\n",
    "# Export merged dataframe as CSV\n",
    "merge_df = pd.merge(coordinates_df, district_df, on = ['Order'])\n",
    "merge_df = merge_df.reset_index(drop = True)\n",
    "merge_df.to_csv('singapore_districts_kml_{}.csv'.format(datetime.datetime.now().strftime('%Y%m%d%H%M%S')), index = False)\n",
    "print(f\"Number of rows: {merge_df.shape[0]}\\nNumber of columns: {merge_df.shape[1]}\")\n",
    "merge_df.head()"
   ]
  },
  {
   "cell_type": "code",
   "execution_count": null,
   "metadata": {},
   "outputs": [],
   "source": []
  }
 ],
 "metadata": {
  "kernelspec": {
   "display_name": "Python 3",
   "language": "python",
   "name": "python3"
  },
  "language_info": {
   "codemirror_mode": {
    "name": "ipython",
    "version": 3
   },
   "file_extension": ".py",
   "mimetype": "text/x-python",
   "name": "python",
   "nbconvert_exporter": "python",
   "pygments_lexer": "ipython3",
   "version": "3.7.6"
  }
 },
 "nbformat": 4,
 "nbformat_minor": 4
}
