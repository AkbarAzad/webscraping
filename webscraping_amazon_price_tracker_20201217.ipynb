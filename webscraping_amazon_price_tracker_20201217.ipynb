{
 "cells": [
  {
   "cell_type": "markdown",
   "metadata": {},
   "source": [
    "# Project Amazon Price Tracker\n",
    "# Akbar Azad"
   ]
  },
  {
   "cell_type": "code",
   "execution_count": 1,
   "metadata": {},
   "outputs": [],
   "source": [
    "from requests_html import HTMLSession\n",
    "import csv\n",
    "import datetime as datetime\n",
    "import time\n",
    "import re\n",
    "from selenium import webdriver\n",
    "from selenium.webdriver.support.ui import WebDriverWait\n",
    "from bs4 import BeautifulSoup\n",
    "import pandas as pd"
   ]
  },
  {
   "cell_type": "code",
   "execution_count": 2,
   "metadata": {},
   "outputs": [],
   "source": [
    "#s = HTMLSession()\n",
    "#r = s.get('https://www.amazon.com/dp/1118345606')\n",
    "#price = r.html.find('#buyNewSection > div > div > span > span')[0].text\n",
    "#price.replace('S$', '').replace(',', '').strip()\n",
    "#title = r.html.find('#productTitle')[0].text.strip()\n"
   ]
  },
  {
   "cell_type": "code",
   "execution_count": 3,
   "metadata": {},
   "outputs": [],
   "source": [
    "def amazon_price_tracker(_asin_isbn):\n",
    "    _asin_isbn = str(_asin_isbn)\n",
    "    url = f'https://www.amazon.sg/dp/{_asin_isbn}'\n",
    "    #session = HTMLSession()\n",
    "    #request = session.get(url)\n",
    "    driver = webdriver.Chrome(executable_path = r'C:\\Users\\65961\\Desktop\\Data_Products\\chromedriver.exe')\n",
    "    driver.get(url)\n",
    "    delay = 5\n",
    "    try:\n",
    "        myElem = WebDriverWait(driver, delay)\n",
    "        print(\"Page is ready!\")\n",
    "    except TimeoutException:\n",
    "        print(\"Loading took too much time!\")\n",
    "    current_page_source = driver.page_source\n",
    "    soup = BeautifulSoup(current_page_source, 'html.parser')\n",
    "    try:\n",
    "        #price = request.html.find('#buyNewSection > div > div > span > span')[0].text\n",
    "        #price = soup.find('span', {'id': 'newBuyBoxPrice'}).text\n",
    "        price = soup.find('span', {'class': 'a-size-medium a-color-price offer-price a-text-normal'}).text\n",
    "        #price.replace('S$', '').replace(',', '').strip()\n",
    "    except:\n",
    "        try:\n",
    "            price = soup.find('span', {'class': 'a-size-base a-color-price a-color-price'}).text\n",
    "        except:\n",
    "            try:\n",
    "                price = soup.find('span', {'id': 'price_inside_buybox'}).text\n",
    "            except:\n",
    "                price = None\n",
    "    try:\n",
    "        #title = r.html.find('#productTitle')[0].text.strip()\n",
    "        title = soup.find('span', {'id': 'productTitle'}).text\n",
    "    except:\n",
    "        title = None\n",
    "    product_dict = {'AsinIsbn': _asin_isbn,\n",
    "                   'Title': title,\n",
    "                   'Price': price,\n",
    "                   'Date': datetime.datetime.now().strftime('%Y-%m-%d'),\n",
    "                   'Datetime': datetime.datetime.now().strftime('%Y-%m-%d %H:%M:%S')}\n",
    "    return product_dict"
   ]
  },
  {
   "cell_type": "code",
   "execution_count": 4,
   "metadata": {},
   "outputs": [],
   "source": [
    "def amazon_price_list(_asin_isbn_list, _time_sleep = 1):\n",
    "    \n",
    "    price_list = []\n",
    "    \n",
    "    for item in _asin_isbn_list:\n",
    "        price_list.append(amazon_price_tracker(item))\n",
    "        time.sleep(_time_sleep)\n",
    "        \n",
    "    return price_list"
   ]
  },
  {
   "cell_type": "code",
   "execution_count": 5,
   "metadata": {},
   "outputs": [],
   "source": [
    "def amazon_price_export(price_list, filepath = 'C:\\\\Users\\\\65961\\\\Desktop\\\\Data_Products\\\\'):\n",
    "    \n",
    "    base = 'webscraping_amazon_price_tracker_v1_'\n",
    "    timestamp = datetime.datetime.now().strftime('%Y%m%d%H%M%S')\n",
    "    extension = '.xlsx'\n",
    "    filename = filepath + base + timestamp + extension\n",
    "    \n",
    "    price_df = pd.DataFrame(price_list)\n",
    "\n",
    "    price_df['AsinIsbn'] = price_df['AsinIsbn'].apply('=\"{}\"'.format)\n",
    "        \n",
    "    price_df.to_excel(filename, index = False)\n",
    "    \n",
    "    return price_df"
   ]
  },
  {
   "cell_type": "code",
   "execution_count": 6,
   "metadata": {},
   "outputs": [],
   "source": [
    "def amazon_price_pipeline(filename = 'amazon_asin_isbn_20201217.txt', filepath = 'C:\\\\Users\\\\65961\\\\Desktop\\\\Data_Products\\\\'):\n",
    "    \n",
    "    file = filepath + filename\n",
    "    with open(file, 'r') as f:\n",
    "        for line in f:\n",
    "            _asin_isbn_list = line.split(',')\n",
    "    \n",
    "    return amazon_price_export(amazon_price_list(_asin_isbn_list))"
   ]
  },
  {
   "cell_type": "code",
   "execution_count": 151,
   "metadata": {},
   "outputs": [
    {
     "name": "stdout",
     "output_type": "stream",
     "text": [
      "Page is ready!\n",
      "Page is ready!\n",
      "Page is ready!\n",
      "Page is ready!\n",
      "Page is ready!\n",
      "Page is ready!\n",
      "Page is ready!\n",
      "Page is ready!\n"
     ]
    },
    {
     "data": {
      "text/html": [
       "<div>\n",
       "<style scoped>\n",
       "    .dataframe tbody tr th:only-of-type {\n",
       "        vertical-align: middle;\n",
       "    }\n",
       "\n",
       "    .dataframe tbody tr th {\n",
       "        vertical-align: top;\n",
       "    }\n",
       "\n",
       "    .dataframe thead th {\n",
       "        text-align: right;\n",
       "    }\n",
       "</style>\n",
       "<table border=\"1\" class=\"dataframe\">\n",
       "  <thead>\n",
       "    <tr style=\"text-align: right;\">\n",
       "      <th></th>\n",
       "      <th>AsinIsbn</th>\n",
       "      <th>Title</th>\n",
       "      <th>Price</th>\n",
       "      <th>Date</th>\n",
       "      <th>Datetime</th>\n",
       "    </tr>\n",
       "  </thead>\n",
       "  <tbody>\n",
       "    <tr>\n",
       "      <th>0</th>\n",
       "      <td>=\"1118345606\"</td>\n",
       "      <td>Decoded: The Science Behind Why We Buy</td>\n",
       "      <td>S$32.44</td>\n",
       "      <td>2020-12-17</td>\n",
       "      <td>2020-12-17 11:27:31</td>\n",
       "    </tr>\n",
       "    <tr>\n",
       "      <th>1</th>\n",
       "      <td>=\"1591847788\"</td>\n",
       "      <td>Hooked: How to Build Habit-Forming Products</td>\n",
       "      <td>S$28.07</td>\n",
       "      <td>2020-12-17</td>\n",
       "      <td>2020-12-17 11:27:39</td>\n",
       "    </tr>\n",
       "    <tr>\n",
       "      <th>2</th>\n",
       "      <td>=\"0470504544\"</td>\n",
       "      <td>Data–Driven Marketing: The 15 Metrics Everyone...</td>\n",
       "      <td>S$34.42</td>\n",
       "      <td>2020-12-17</td>\n",
       "      <td>2020-12-17 11:27:48</td>\n",
       "    </tr>\n",
       "    <tr>\n",
       "      <th>3</th>\n",
       "      <td>=\"149207408X\"</td>\n",
       "      <td>Blueprints for Text Analytics using Python: Ma...</td>\n",
       "      <td>S$81.71</td>\n",
       "      <td>2020-12-17</td>\n",
       "      <td>2020-12-17 11:27:57</td>\n",
       "    </tr>\n",
       "    <tr>\n",
       "      <th>4</th>\n",
       "      <td>=\"1119438861\"</td>\n",
       "      <td>The Sentient Enterprise: The Evolution of Busi...</td>\n",
       "      <td>S$32.79</td>\n",
       "      <td>2020-12-17</td>\n",
       "      <td>2020-12-17 11:28:06</td>\n",
       "    </tr>\n",
       "    <tr>\n",
       "      <th>5</th>\n",
       "      <td>=\"3319524518\"</td>\n",
       "      <td>Time Series Analysis and Its Applications: Wit...</td>\n",
       "      <td>S$95.84</td>\n",
       "      <td>2020-12-17</td>\n",
       "      <td>2020-12-17 11:28:14</td>\n",
       "    </tr>\n",
       "    <tr>\n",
       "      <th>6</th>\n",
       "      <td>=\"0062018205\"</td>\n",
       "      <td>Predictably Irrational, Revised: The Hidden Fo...</td>\n",
       "      <td>S$14.28</td>\n",
       "      <td>2020-12-17</td>\n",
       "      <td>2020-12-17 11:28:40</td>\n",
       "    </tr>\n",
       "    <tr>\n",
       "      <th>7</th>\n",
       "      <td>=\"014311526X\\n\"</td>\n",
       "      <td>Nudge: Improving Decisions About Health, Wealt...</td>\n",
       "      <td>S$19.11</td>\n",
       "      <td>2020-12-17</td>\n",
       "      <td>2020-12-17 11:28:50</td>\n",
       "    </tr>\n",
       "  </tbody>\n",
       "</table>\n",
       "</div>"
      ],
      "text/plain": [
       "          AsinIsbn                                              Title  \\\n",
       "0    =\"1118345606\"             Decoded: The Science Behind Why We Buy   \n",
       "1    =\"1591847788\"        Hooked: How to Build Habit-Forming Products   \n",
       "2    =\"0470504544\"  Data–Driven Marketing: The 15 Metrics Everyone...   \n",
       "3    =\"149207408X\"  Blueprints for Text Analytics using Python: Ma...   \n",
       "4    =\"1119438861\"  The Sentient Enterprise: The Evolution of Busi...   \n",
       "5    =\"3319524518\"  Time Series Analysis and Its Applications: Wit...   \n",
       "6    =\"0062018205\"  Predictably Irrational, Revised: The Hidden Fo...   \n",
       "7  =\"014311526X\\n\"  Nudge: Improving Decisions About Health, Wealt...   \n",
       "\n",
       "     Price        Date             Datetime  \n",
       "0  S$32.44  2020-12-17  2020-12-17 11:27:31  \n",
       "1  S$28.07  2020-12-17  2020-12-17 11:27:39  \n",
       "2  S$34.42  2020-12-17  2020-12-17 11:27:48  \n",
       "3  S$81.71  2020-12-17  2020-12-17 11:27:57  \n",
       "4  S$32.79  2020-12-17  2020-12-17 11:28:06  \n",
       "5  S$95.84  2020-12-17  2020-12-17 11:28:14  \n",
       "6  S$14.28  2020-12-17  2020-12-17 11:28:40  \n",
       "7  S$19.11  2020-12-17  2020-12-17 11:28:50  "
      ]
     },
     "execution_count": 151,
     "metadata": {},
     "output_type": "execute_result"
    }
   ],
   "source": [
    "amazon_price_pipeline()"
   ]
  },
  {
   "cell_type": "code",
   "execution_count": 97,
   "metadata": {},
   "outputs": [],
   "source": [
    "#asin_isbn_list = ['1118345606', '1591847788', '0470504544', '149207408X', '1119438861', '3319524518', '0062018205', '014311526X']\n",
    "#asin_isbn_list = ['1118345606', '1591847788', '0470504544']\n",
    "#with open('amazon_asin_isbn_20201217.csv', 'r') as f:\n",
    "#    csv_reader = csv.reader(f)\n",
    "#    for row in csv_reader:\n",
    "#        row_result = ''\n",
    "#        row_zero = str(row[0])\n",
    "#        for character in row_zero:\n",
    "#            if re.match(pattern, character):\n",
    "#                row_result = row_result + character\n",
    "#        asin_isbn_list.append(row_result)"
   ]
  },
  {
   "cell_type": "code",
   "execution_count": 98,
   "metadata": {},
   "outputs": [],
   "source": [
    "#pattern = re.compile(r'[a-zA-Z0-9]')"
   ]
  },
  {
   "cell_type": "code",
   "execution_count": 99,
   "metadata": {},
   "outputs": [],
   "source": [
    "#if re.match(pattern, asin_isbn_list[0][5]):\n",
    "#    print('true')"
   ]
  }
 ],
 "metadata": {
  "kernelspec": {
   "display_name": "Python 3",
   "language": "python",
   "name": "python3"
  },
  "language_info": {
   "codemirror_mode": {
    "name": "ipython",
    "version": 3
   },
   "file_extension": ".py",
   "mimetype": "text/x-python",
   "name": "python",
   "nbconvert_exporter": "python",
   "pygments_lexer": "ipython3",
   "version": "3.7.6"
  }
 },
 "nbformat": 4,
 "nbformat_minor": 4
}
