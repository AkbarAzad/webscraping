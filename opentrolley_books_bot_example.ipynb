{
 "cells": [
  {
   "cell_type": "code",
   "execution_count": 1,
   "metadata": {},
   "outputs": [],
   "source": [
    "import pandas as pd\n",
    "import datetime\n",
    "import opentrolley_books_bot as opn"
   ]
  },
  {
   "cell_type": "code",
   "execution_count": 8,
   "metadata": {},
   "outputs": [],
   "source": [
    "bot1 = opn.opentrolley_bot('https://opentrolley.com.sg/book/9781108455145/mathematics-for-machine-learni')\n",
    "bot2 = opn.opentrolley_bot('https://opentrolley.com.sg/book/9780393347289/wsj-gt-info-graphics')\n",
    "bot3 = opn.opentrolley_bot('https://opentrolley.com.sg/book/9780387310732/pattern-recognition-machine')\n",
    "bot4 = opn.opentrolley_bot('https://opentrolley.com.sg/book/9781507823200/7-layers-of-social-media-analy')\n",
    "bot5 = opn.opentrolley_bot('https://opentrolley.com.sg/book/9781492073055/machine-learning-data-scienc')\n",
    "bot6 = opn.opentrolley_bot('https://opentrolley.com.sg/book/9780143115267/nudge')\n",
    "bot7 = opn.opentrolley_bot('https://opentrolley.com.sg/book/9780061353246/predictably-irrational-rev-e')\n",
    "bot8 = opn.opentrolley_bot('https://opentrolley.com.sg/book/9781493979363/applied-predictive-modeling-so')\n",
    "bot9 = opn.opentrolley_bot('https://opentrolley.com.sg/book/9780691021805/political-control-of-the-econo')\n",
    "bot10 = opn.opentrolley_bot('https://opentrolley.com.sg/book/9781119438861/sentient-enterprise')\n",
    "\n"
   ]
  },
  {
   "cell_type": "code",
   "execution_count": 3,
   "metadata": {},
   "outputs": [],
   "source": [
    "bot1_dict = bot1.extract_info()"
   ]
  },
  {
   "cell_type": "code",
   "execution_count": 6,
   "metadata": {},
   "outputs": [
    {
     "data": {
      "text/plain": [
       "{'EAN': '9781108455145',\n",
       " 'Title': 'Mathematics for Machine Learning',\n",
       " 'Author': 'By Deisenroth, Marc Peter',\n",
       " 'Normal_Price': '115.65',\n",
       " 'Discounted_Price': '98.18',\n",
       " 'Description': None,\n",
       " 'Stock': 'Available',\n",
       " 'Copies': '76 copies available',\n",
       " 'Bind': 'Paperback',\n",
       " 'Published_Date': '23/04/2020',\n",
       " 'About_Author': ''}"
      ]
     },
     "execution_count": 6,
     "metadata": {},
     "output_type": "execute_result"
    }
   ],
   "source": [
    "bot1_dict"
   ]
  },
  {
   "cell_type": "code",
   "execution_count": 9,
   "metadata": {},
   "outputs": [],
   "source": [
    "bot2_dict = bot2.extract_info()\n",
    "bot3_dict = bot3.extract_info()\n",
    "bot4_dict = bot4.extract_info()\n",
    "bot5_dict = bot5.extract_info()\n",
    "bot6_dict = bot6.extract_info()\n",
    "bot7_dict = bot7.extract_info()\n",
    "bot8_dict = bot8.extract_info()\n",
    "bot9_dict = bot9.extract_info()\n",
    "bot10_dict = bot10.extract_info()\n",
    "\n",
    "bot_list = [bot1_dict, bot2_dict, bot3_dict, bot4_dict, bot5_dict, bot6_dict, bot7_dict, bot8_dict, bot9_dict, bot10_dict]\n",
    "\n",
    "bot_df = pd.DataFrame(bot_list)\n",
    "\n",
    "bot_df['EAN_Raw'] = bot_df['EAN'].apply('=\"{}\"'.format)\n",
    "\n",
    "base = 'webscraping_opentrolley_books_bot_'\n",
    "timestamp = datetime.datetime.now().strftime('%Y%m%d%H%M%S')\n",
    "extension = '.xlsx'\n",
    "filename = base + timestamp + extension\n",
    "        \n",
    "bot_df.to_excel(filename, index = False)\n",
    "    "
   ]
  },
  {
   "cell_type": "code",
   "execution_count": null,
   "metadata": {},
   "outputs": [],
   "source": []
  }
 ],
 "metadata": {
  "kernelspec": {
   "display_name": "Python 3",
   "language": "python",
   "name": "python3"
  },
  "language_info": {
   "codemirror_mode": {
    "name": "ipython",
    "version": 3
   },
   "file_extension": ".py",
   "mimetype": "text/x-python",
   "name": "python",
   "nbconvert_exporter": "python",
   "pygments_lexer": "ipython3",
   "version": "3.7.6"
  }
 },
 "nbformat": 4,
 "nbformat_minor": 4
}
